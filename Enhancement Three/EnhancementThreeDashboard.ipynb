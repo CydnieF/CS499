{
 "cells": [
  {
   "cell_type": "code",
   "execution_count": 27,
   "id": "initial_id",
   "metadata": {
    "ExecuteTime": {
     "end_time": "2024-11-30T03:38:59.344785Z",
     "start_time": "2024-11-30T03:38:58.829006Z"
    }
   },
   "outputs": [
    {
     "name": "stdout",
     "output_type": "stream",
     "text": [
      "Connected to MongoDB database 'AnimalDB' and collection 'Animals'.\n"
     ]
    },
    {
     "data": {
      "text/html": [
       "\n",
       "        <iframe\n",
       "            width=\"100%\"\n",
       "            height=\"650\"\n",
       "            src=\"http://127.0.0.1:8050/\"\n",
       "            frameborder=\"0\"\n",
       "            allowfullscreen\n",
       "            \n",
       "        ></iframe>\n",
       "        "
      ],
      "text/plain": [
       "<IPython.lib.display.IFrame at 0x1086c1c10>"
      ]
     },
     "metadata": {},
     "output_type": "display_data"
    }
   ],
   "source": [
    "from dash import Dash, dcc, html, dash_table\n",
    "from dash.dependencies import Input, Output\n",
    "from crud import AnimalRescue\n",
    "\n",
    "# initialize MongoDB connection\n",
    "shelter = AnimalRescue(\n",
    "    username=\"dataViewer\",\n",
    "    password=\"viewerpassword\",\n",
    "    host=\"127.0.0.1\",\n",
    "    port=27017,\n",
    "    database=\"AnimalDB\",\n",
    "    collection=\"Animals\"\n",
    ")\n",
    "\n",
    "# initialize Dash app\n",
    "app = Dash(__name__)\n",
    "\n",
    "# app layout\n",
    "app.layout = html.Div([\n",
    "    dcc.Dropdown(\n",
    "        id=\"filter-species\",\n",
    "        options=[\n",
    "            {\"label\": \"Dog\", \"value\": \"Dog\"},\n",
    "            {\"label\": \"Monkey\", \"value\": \"Monkey\"}\n",
    "        ],\n",
    "        placeholder=\"Filter by Species\"\n",
    "    ),\n",
    "    dash_table.DataTable(\n",
    "        id=\"animal-table\",\n",
    "        columns=[\n",
    "            {\"name\": \"Name\", \"id\": \"name\"},\n",
    "            {\"name\": \"Type\", \"id\": \"type\"},\n",
    "            {\"name\": \"Species\", \"id\": \"species\"},\n",
    "            {\"name\": \"Gender\", \"id\": \"gender\"},\n",
    "            {\"name\": \"Age\", \"id\": \"age\"},\n",
    "            {\"name\": \"Weight\", \"id\": \"weight\"},\n",
    "            {\"name\": \"Training Status\", \"id\": \"training_status\"},\n",
    "            {\"name\": \"Reserved\", \"id\": \"reserved_status\"},\n",
    "            {\"name\": \"In Service Country\", \"id\": \"in_service_country\"}\n",
    "        ],\n",
    "        style_table={'overflowX': 'auto'}\n",
    "    )\n",
    "])\n",
    "\n",
    "# callback to update the table based on dropdown selection\n",
    "@app.callback(\n",
    "    Output(\"animal-table\", \"data\"),\n",
    "    [Input(\"filter-species\", \"value\")]\n",
    ")\n",
    "def update_table(species):\n",
    "    query = {\"type\": species} if species else {}\n",
    "    animals = shelter.read(query, \"dataViewer\")\n",
    "    for animal in animals:\n",
    "        if \"_id\" in animal:\n",
    "            animal[\"_id\"] = str(animal[\"_id\"])  # convert ObjectId to string\n",
    "    return animals\n",
    "\n",
    "# run the app\n",
    "if __name__ == \"__main__\":\n",
    "    app.run_server(debug=True)"
   ]
  },
  {
   "cell_type": "code",
   "execution_count": 28,
   "id": "e83ed8d4-54d8-44ee-a57a-45f01b85cab2",
   "metadata": {
    "ExecuteTime": {
     "end_time": "2024-11-30T03:39:59.328125Z",
     "start_time": "2024-11-30T03:39:59.282541Z"
    }
   },
   "outputs": [
    {
     "name": "stdout",
     "output_type": "stream",
     "text": [
      "Connected to MongoDB database 'AnimalDB' and collection 'Animals'.\n",
      "Animal added successfully.\n",
      "Animals: [{'_id': ObjectId('6750c109d75e880a9da311f6'), 'name': 'Buddy', 'type': 'Dog', 'species': 'Labrador', 'gender': 'Male', 'age': 5, 'weight': 30.5, 'acquisition_date': '2022-06-15', 'acquisition_country': 'USA', 'training_status': 'Completed', 'reserved_status': False, 'in_service_country': 'USA'}, {'_id': ObjectId('6750c109d75e880a9da311f7'), 'name': 'Max', 'type': 'Dog', 'species': 'German Shepherd', 'gender': 'Male', 'age': 7, 'weight': 35.0, 'acquisition_date': '2021-03-10', 'acquisition_country': 'Germany', 'training_status': 'In Progress', 'reserved_status': True, 'in_service_country': 'USA'}, {'_id': ObjectId('6750d8dd16ccbe6a2d37b2a3'), 'name': 'Charlie', 'type': 'Dog', 'species': 'Beagle', 'age': 4, 'weight': 22.5, 'acquisition_date': '2023-05-01', 'acquisition_country': 'USA', 'training_status': 'In Progress', 'reserved_status': False, 'in_service_country': 'USA'}]\n",
      "Animal updated successfully.\n",
      "Animal deleted successfully.\n"
     ]
    }
   ],
   "source": [
    "\"\"\"\n",
    "This showcases that the user dataManager \n",
    "has access to all CRUD functionality\n",
    "\"\"\"\n",
    "from crud import AnimalRescue\n",
    "\n",
    "# connect to MongoDB\n",
    "shelter = AnimalRescue(\n",
    "    username=\"dataManager\",\n",
    "    password=\"managerpassword\",\n",
    "    host=\"127.0.0.1\",\n",
    "    port=27017,\n",
    "    database=\"AnimalDB\",\n",
    "    collection=\"Animals\"\n",
    ")\n",
    "\n",
    "def example_operations(role):\n",
    "    # create an animal\n",
    "    animal = {\n",
    "        \"name\": \"Charlie\",\n",
    "        \"type\": \"Dog\",\n",
    "        \"species\": \"Beagle\",\n",
    "        \"age\": 4,\n",
    "        \"weight\": 22.5,\n",
    "        \"acquisition_date\": \"2023-05-01\",\n",
    "        \"acquisition_country\": \"USA\",\n",
    "        \"training_status\": \"In Progress\",\n",
    "        \"reserved_status\": False,\n",
    "        \"in_service_country\": \"USA\"\n",
    "    }\n",
    "    try:\n",
    "        shelter.create(animal, role)\n",
    "        print(\"Animal added successfully.\")\n",
    "    except PermissionError as e:\n",
    "        print(e)\n",
    "\n",
    "    # read animals\n",
    "    try:\n",
    "        animals = shelter.read({\"type\": \"Dog\"}, role)\n",
    "        print(\"Animals:\", animals)\n",
    "    except PermissionError as e:\n",
    "        print(e)\n",
    "\n",
    "    # update an animal\n",
    "    try:\n",
    "        shelter.update({\"name\": \"Charlie\"}, {\"training_status\": \"Completed\"}, role)\n",
    "        print(\"Animal updated successfully.\")\n",
    "    except PermissionError as e:\n",
    "        print(e)\n",
    "\n",
    "    # delete an animal\n",
    "    try:\n",
    "        shelter.delete({\"name\": \"Charlie\"}, role)\n",
    "        print(\"Animal deleted successfully.\")\n",
    "    except PermissionError as e:\n",
    "        print(e)\n",
    "\n",
    "if __name__ == \"__main__\":\n",
    "    # perform example operations\n",
    "    example_operations(\"dataManager\")"
   ]
  },
  {
   "cell_type": "code",
   "execution_count": 29,
   "id": "03606ff8-35ef-4564-ab14-04577cee6a2f",
   "metadata": {
    "ExecuteTime": {
     "end_time": "2024-11-30T03:39:59.328125Z",
     "start_time": "2024-11-30T03:39:59.282541Z"
    }
   },
   "outputs": [
    {
     "name": "stdout",
     "output_type": "stream",
     "text": [
      "Connected to MongoDB database 'AnimalDB' and collection 'Animals'.\n",
      "You do not have permission to perform this operation.\n",
      "Animals: [{'_id': ObjectId('6750c109d75e880a9da311f6'), 'name': 'Buddy', 'type': 'Dog', 'species': 'Labrador', 'gender': 'Male', 'age': 5, 'weight': 30.5, 'acquisition_date': '2022-06-15', 'acquisition_country': 'USA', 'training_status': 'Completed', 'reserved_status': False, 'in_service_country': 'USA'}, {'_id': ObjectId('6750c109d75e880a9da311f7'), 'name': 'Max', 'type': 'Dog', 'species': 'German Shepherd', 'gender': 'Male', 'age': 7, 'weight': 35.0, 'acquisition_date': '2021-03-10', 'acquisition_country': 'Germany', 'training_status': 'In Progress', 'reserved_status': True, 'in_service_country': 'USA'}]\n",
      "You do not have permission to perform this operation.\n",
      "You do not have permission to perform this operation.\n"
     ]
    }
   ],
   "source": [
    "\"\"\"\n",
    "This showcases that the user dataViewer\n",
    "has access only to read functionality\n",
    "\"\"\"\n",
    "from crud import AnimalRescue\n",
    "\n",
    "# connect to MongoDB\n",
    "shelter = AnimalRescue(\n",
    "    username=\"dataViewer\",\n",
    "    password=\"viewerpassword\",\n",
    "    host=\"127.0.0.1\",\n",
    "    port=27017,\n",
    "    database=\"AnimalDB\",\n",
    "    collection=\"Animals\"\n",
    ")\n",
    "\n",
    "def example_operations(role):\n",
    "    # create an animal\n",
    "    animal = {\n",
    "        \"name\": \"Charlie\",\n",
    "        \"type\": \"Dog\",\n",
    "        \"species\": \"Beagle\",\n",
    "        \"age\": 4,\n",
    "        \"weight\": 22.5,\n",
    "        \"acquisition_date\": \"2023-05-01\",\n",
    "        \"acquisition_country\": \"USA\",\n",
    "        \"training_status\": \"In Progress\",\n",
    "        \"reserved_status\": False,\n",
    "        \"in_service_country\": \"USA\"\n",
    "    }\n",
    "    try:\n",
    "        shelter.create(animal, role)\n",
    "        print(\"Animal added successfully.\")\n",
    "    except PermissionError as e:\n",
    "        print(e)\n",
    "\n",
    "    # read animals\n",
    "    try:\n",
    "        animals = shelter.read({\"type\": \"Dog\"}, role)\n",
    "        print(\"Animals:\", animals)\n",
    "    except PermissionError as e:\n",
    "        print(e)\n",
    "\n",
    "    # update an animal\n",
    "    try:\n",
    "        shelter.update({\"name\": \"Charlie\"}, {\"training_status\": \"Completed\"}, role)\n",
    "        print(\"Animal updated successfully.\")\n",
    "    except PermissionError as e:\n",
    "        print(e)\n",
    "\n",
    "    # delete an animal\n",
    "    try:\n",
    "        shelter.delete({\"name\": \"Charlie\"}, role)\n",
    "        print(\"Animal deleted successfully.\")\n",
    "    except PermissionError as e:\n",
    "        print(e)\n",
    "\n",
    "if __name__ == \"__main__\":\n",
    "    # perform example operations\n",
    "    example_operations(\"dataViewer\")"
   ]
  },
  {
   "cell_type": "code",
   "execution_count": null,
   "id": "4fca4076-d84d-45d8-a0b0-4d7c7049c689",
   "metadata": {},
   "outputs": [],
   "source": []
  }
 ],
 "metadata": {
  "kernelspec": {
   "display_name": "Python (myenv)",
   "language": "python",
   "name": "myenv"
  },
  "language_info": {
   "codemirror_mode": {
    "name": "ipython",
    "version": 3
   },
   "file_extension": ".py",
   "mimetype": "text/x-python",
   "name": "python",
   "nbconvert_exporter": "python",
   "pygments_lexer": "ipython3",
   "version": "3.12.7"
  }
 },
 "nbformat": 4,
 "nbformat_minor": 5
}
